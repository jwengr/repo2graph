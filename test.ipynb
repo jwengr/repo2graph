{
 "cells": [
  {
   "cell_type": "code",
   "execution_count": 1,
   "metadata": {},
   "outputs": [],
   "source": [
    "import tempfile\n",
    "from repo2graph.graph import build_repo_graph, find_nodes_by_path, get_child_node_by_line, modify_node"
   ]
  },
  {
   "cell_type": "code",
   "execution_count": 2,
   "metadata": {},
   "outputs": [],
   "source": [
    "repo_url = 'https://github.com/pylint-dev/astroid.git'\n",
    "\n",
    "g = build_repo_graph(repo_url=repo_url)"
   ]
  },
  {
   "cell_type": "code",
   "execution_count": 3,
   "metadata": {},
   "outputs": [
    {
     "name": "stdout",
     "output_type": "stream",
     "text": [
      "astroid\n",
      "astroid/tests\n",
      "astroid/tests/test_inference\n",
      "astroid/tests/test_inference::get_node_of_class\n",
      "astroid/tests/test_inference::InferenceUtilsTest\n",
      "astroid/tests/test_inference::InferenceUtilsTest::test_path_wrapper\n",
      "astroid/tests/test_inference::InferenceUtilsTest::infer_default\n",
      "astroid/tests/test_inference::_assertInferElts\n",
      "astroid/tests/test_inference::partialmethod\n",
      "astroid/tests/test_inference::InferenceTest\n"
     ]
    }
   ],
   "source": [
    "for n in list(g.nodes())[:10]:\n",
    "    print(g.nodes[n]['name'])"
   ]
  },
  {
   "cell_type": "code",
   "execution_count": 4,
   "metadata": {},
   "outputs": [
    {
     "data": {
      "text/plain": [
       "['cc912565-1479-4f6f-8437-bda71455960d']"
      ]
     },
     "execution_count": 4,
     "metadata": {},
     "output_type": "execute_result"
    }
   ],
   "source": [
    "find_nodes_by_path(g, 'astroid/astroid/nodes/scoped_nodes/mixin::LocalsDictNodeNG::__contains__')"
   ]
  },
  {
   "cell_type": "code",
   "execution_count": null,
   "metadata": {},
   "outputs": [],
   "source": []
  },
  {
   "cell_type": "code",
   "execution_count": 5,
   "metadata": {},
   "outputs": [
    {
     "name": "stdout",
     "output_type": "stream",
     "text": [
      "def __contains__(self, name) -> bool:\n",
      "        \"\"\"Check if a local is defined in this scope.\n",
      "\n",
      "        :param name: The name of the local to check for.\n",
      "        :type name: str\n",
      "\n",
      "        :returns: Whether this node has a local of the given name,\n",
      "        \"\"\"\n",
      "        return name in self.locals\n"
     ]
    }
   ],
   "source": [
    "node_id = 'cc912565-1479-4f6f-8437-bda71455960d'\n",
    "source = g.nodes[node_id]['source']\n",
    "print(source)"
   ]
  },
  {
   "cell_type": "code",
   "execution_count": 6,
   "metadata": {},
   "outputs": [],
   "source": [
    "new_source = \"\"\"def __contains__(self, name) -> bool:\n",
    "    \\\"\\\"\\\"Check if a name exists in the scope.\\\"\\\"\\\"\n",
    "    return name in self.locals\"\"\""
   ]
  },
  {
   "cell_type": "code",
   "execution_count": 7,
   "metadata": {},
   "outputs": [
    {
     "data": {
      "text/plain": [
       "<networkx.classes.digraph.DiGraph at 0x7f0f6cdd6c90>"
      ]
     },
     "execution_count": 7,
     "metadata": {},
     "output_type": "execute_result"
    }
   ],
   "source": [
    "modify_node(g, node_id, new_source)"
   ]
  },
  {
   "cell_type": "code",
   "execution_count": 10,
   "metadata": {},
   "outputs": [
    {
     "data": {
      "text/plain": [
       "['bfb0e54e-6e9a-4baa-9b67-106735c3bbc5']"
      ]
     },
     "execution_count": 10,
     "metadata": {},
     "output_type": "execute_result"
    }
   ],
   "source": [
    "find_nodes_by_path(g, 'astroid/astroid/nodes/scoped_nodes/mixin::LocalsDictNodeNG::__contains__')"
   ]
  },
  {
   "cell_type": "code",
   "execution_count": 11,
   "metadata": {},
   "outputs": [
    {
     "name": "stdout",
     "output_type": "stream",
     "text": [
      "def __contains__(self, name) -> bool:\n",
      "        \"\"\"Check if a name exists in the scope.\"\"\"\n",
      "        return name in self.locals\n"
     ]
    }
   ],
   "source": [
    "source = g.nodes['bfb0e54e-6e9a-4baa-9b67-106735c3bbc5']['source']\n",
    "print(source)"
   ]
  },
  {
   "cell_type": "code",
   "execution_count": null,
   "metadata": {},
   "outputs": [],
   "source": []
  }
 ],
 "metadata": {
  "kernelspec": {
   "display_name": "repo2graph-cD37in77",
   "language": "python",
   "name": "python3"
  },
  "language_info": {
   "codemirror_mode": {
    "name": "ipython",
    "version": 3
   },
   "file_extension": ".py",
   "mimetype": "text/x-python",
   "name": "python",
   "nbconvert_exporter": "python",
   "pygments_lexer": "ipython3",
   "version": "3.11.11"
  }
 },
 "nbformat": 4,
 "nbformat_minor": 2
}
