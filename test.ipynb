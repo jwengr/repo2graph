{
 "cells": [
  {
   "cell_type": "code",
   "execution_count": 1,
   "metadata": {},
   "outputs": [],
   "source": [
    "import tempfile\n",
    "from repo2graph.core import add_node_by_repo"
   ]
  },
  {
   "cell_type": "code",
   "execution_count": 2,
   "metadata": {},
   "outputs": [],
   "source": [
    "repo_url = 'https://github.com/gitpython-developers/GitPython.git'\n",
    "\n",
    "g = add_node_by_repo(repo_url=repo_url)"
   ]
  },
  {
   "cell_type": "code",
   "execution_count": 4,
   "metadata": {},
   "outputs": [
    {
     "data": {
      "text/plain": [
       "NodeView(('GitPython', 'GitPython/test', 'GitPython/test/test_imports.py', 'GitPython/test/test_config.py', 'GitPython/test/test_git.py', 'GitPython/test/test_fun.py', 'GitPython/test/test_quick_doc.py', 'GitPython/test/tstrunner.py', 'GitPython/test/test_tree.py', 'GitPython/test/test_db.py', 'GitPython/test/test_stats.py', 'GitPython/test/__init__.py', 'GitPython/test/test_index.py', 'GitPython/test/test_actor.py', 'GitPython/test/test_installation.py', 'GitPython/test/test_base.py', 'GitPython/test/test_util.py', 'GitPython/test/test_exc.py', 'GitPython/test/test_submodule.py', 'GitPython/test/test_blob_filter.py', 'GitPython/test/test_reflog.py', 'GitPython/test/test_diff.py', 'GitPython/test/test_refs.py', 'GitPython/test/test_commit.py', 'GitPython/test/test_docs.py', 'GitPython/test/test_repo.py', 'GitPython/test/test_remote.py', 'GitPython/test/test_clone.py', 'GitPython/test/test_blob.py', 'GitPython/test/performance', 'GitPython/test/performance/test_odb.py', 'GitPython/test/performance/__init__.py', 'GitPython/test/performance/lib.py', 'GitPython/test/performance/test_streams.py', 'GitPython/test/performance/test_commit.py', 'GitPython/test/deprecation', 'GitPython/test/deprecation/test_types.py', 'GitPython/test/deprecation/test_compat.py', 'GitPython/test/deprecation/__init__.py', 'GitPython/test/deprecation/test_basic.py', 'GitPython/test/deprecation/test_cmd_git.py', 'GitPython/test/deprecation/lib.py', 'GitPython/test/deprecation/test_toplevel.py', 'GitPython/test/lib', 'GitPython/test/lib/__init__.py', 'GitPython/test/lib/helper.py', 'GitPython/test/fixtures', 'GitPython/test/fixtures/env_case.py', 'GitPython/test/fixtures/cat_file.py', 'GitPython/fuzzing', 'GitPython/fuzzing/fuzz-targets', 'GitPython/fuzzing/fuzz-targets/fuzz_diff.py', 'GitPython/fuzzing/fuzz-targets/fuzz_blob.py', 'GitPython/fuzzing/fuzz-targets/fuzz_submodule.py', 'GitPython/fuzzing/fuzz-targets/utils.py', 'GitPython/fuzzing/fuzz-targets/fuzz_config.py', 'GitPython/fuzzing/fuzz-targets/fuzz_repo.py', 'GitPython/doc', 'GitPython/doc/source', 'GitPython/doc/source/conf.py', 'GitPython/git', 'GitPython/git/types.py', 'GitPython/git/diff.py', 'GitPython/git/remote.py', 'GitPython/git/exc.py', 'GitPython/git/db.py', 'GitPython/git/config.py', 'GitPython/git/__init__.py', 'GitPython/git/cmd.py', 'GitPython/git/util.py', 'GitPython/git/compat.py', 'GitPython/git/repo', 'GitPython/git/repo/fun.py', 'GitPython/git/repo/__init__.py', 'GitPython/git/repo/base.py', 'GitPython/git/refs', 'GitPython/git/refs/remote.py', 'GitPython/git/refs/log.py', 'GitPython/git/refs/__init__.py', 'GitPython/git/refs/reference.py', 'GitPython/git/refs/tag.py', 'GitPython/git/refs/head.py', 'GitPython/git/refs/symbolic.py', 'GitPython/git/index', 'GitPython/git/index/fun.py', 'GitPython/git/index/__init__.py', 'GitPython/git/index/base.py', 'GitPython/git/index/util.py', 'GitPython/git/index/typ.py', 'GitPython/git/objects', 'GitPython/git/objects/fun.py', 'GitPython/git/objects/tree.py', 'GitPython/git/objects/__init__.py', 'GitPython/git/objects/tag.py', 'GitPython/git/objects/commit.py', 'GitPython/git/objects/base.py', 'GitPython/git/objects/util.py', 'GitPython/git/objects/blob.py', 'GitPython/git/objects/submodule', 'GitPython/git/objects/submodule/__init__.py', 'GitPython/git/objects/submodule/base.py', 'GitPython/git/objects/submodule/util.py', 'GitPython/git/objects/submodule/root.py'))"
      ]
     },
     "execution_count": 4,
     "metadata": {},
     "output_type": "execute_result"
    }
   ],
   "source": [
    "g.nodes"
   ]
  },
  {
   "cell_type": "code",
   "execution_count": 5,
   "metadata": {},
   "outputs": [
    {
     "name": "stdout",
     "output_type": "stream",
     "text": [
      "# This module is part of GitPython and is released under the\n",
      "# 3-Clause BSD License: https://opensource.org/license/bsd-3-clause/\n",
      "\n",
      "__all__ = [\n",
      "    \"sm_section\",\n",
      "    \"sm_name\",\n",
      "    \"mkhead\",\n",
      "    \"find_first_remote_branch\",\n",
      "    \"SubmoduleConfigParser\",\n",
      "]\n",
      "\n",
      "from io import BytesIO\n",
      "import weakref\n",
      "\n",
      "import git\n",
      "from git.config import GitConfigParser\n",
      "from git.exc import InvalidGitRepositoryError\n",
      "\n",
      "# typing -----------------------------------------------------------------------\n",
      "\n",
      "from typing import Any, Sequence, TYPE_CHECKING, Union\n",
      "\n",
      "from git.types import PathLike\n",
      "\n",
      "if TYPE_CHECKING:\n",
      "    from weakref import ReferenceType\n",
      "\n",
      "    from git.refs import Head, RemoteReference\n",
      "    from git.remote import Remote\n",
      "    from git.repo import Repo\n",
      "\n",
      "    from .base import Submodule\n",
      "\n",
      "# { Utilities\n",
      "\n",
      "\n",
      "def sm_section(name: str) -> str:\n",
      "    \"\"\":return: Section title used in ``.gitmodules`` configuration file\"\"\"\n",
      "    return f'submodule \"{name}\"'\n",
      "\n",
      "\n",
      "def sm_name(section: str) -> str:\n",
      "    \"\"\":return: Name of the submodule as parsed from the section name\"\"\"\n",
      "    section = section.strip()\n",
      "    return section[11:-1]\n",
      "\n",
      "\n",
      "def mkhead(repo: \"Repo\", path: PathLike) -> \"Head\":\n",
      "    \"\"\":return: New branch/head instance\"\"\"\n",
      "    return git.Head(repo, git.Head.to_full_path(path))\n",
      "\n",
      "\n",
      "def find_first_remote_branch(remotes: Sequence[\"Remote\"], branch_name: str) -> \"RemoteReference\":\n",
      "    \"\"\"Find the remote branch matching the name of the given branch or raise\n",
      "    :exc:`~git.exc.InvalidGitRepositoryError`.\"\"\"\n",
      "    for remote in remotes:\n",
      "        try:\n",
      "            return remote.refs[branch_name]\n",
      "        except IndexError:\n",
      "            continue\n",
      "        # END exception handling\n",
      "    # END for remote\n",
      "    raise InvalidGitRepositoryError(\"Didn't find remote branch '%r' in any of the given remotes\" % branch_name)\n",
      "\n",
      "\n",
      "# } END utilities\n",
      "\n",
      "# { Classes\n",
      "\n",
      "\n",
      "class SubmoduleConfigParser(GitConfigParser):\n",
      "    \"\"\"Catches calls to :meth:`~git.config.GitConfigParser.write`, and updates the\n",
      "    ``.gitmodules`` blob in the index with the new data, if we have written into a\n",
      "    stream.\n",
      "\n",
      "    Otherwise it would add the local file to the index to make it correspond with the\n",
      "    working tree. Additionally, the cache must be cleared.\n",
      "\n",
      "    Please note that no mutating method will work in bare mode.\n",
      "    \"\"\"\n",
      "\n",
      "    def __init__(self, *args: Any, **kwargs: Any) -> None:\n",
      "        self._smref: Union[\"ReferenceType[Submodule]\", None] = None\n",
      "        self._index = None\n",
      "        self._auto_write = True\n",
      "        super().__init__(*args, **kwargs)\n",
      "\n",
      "    # { Interface\n",
      "    def set_submodule(self, submodule: \"Submodule\") -> None:\n",
      "        \"\"\"Set this instance's submodule. It must be called before the first write\n",
      "        operation begins.\"\"\"\n",
      "        self._smref = weakref.ref(submodule)\n",
      "\n",
      "    def flush_to_index(self) -> None:\n",
      "        \"\"\"Flush changes in our configuration file to the index.\"\"\"\n",
      "        assert self._smref is not None\n",
      "        # Should always have a file here.\n",
      "        assert not isinstance(self._file_or_files, BytesIO)\n",
      "\n",
      "        sm = self._smref()\n",
      "        if sm is not None:\n",
      "            index = self._index\n",
      "            if index is None:\n",
      "                index = sm.repo.index\n",
      "            # END handle index\n",
      "            index.add([sm.k_modules_file], write=self._auto_write)\n",
      "            sm._clear_cache()\n",
      "        # END handle weakref\n",
      "\n",
      "    # } END interface\n",
      "\n",
      "    # { Overridden Methods\n",
      "    def write(self) -> None:  # type: ignore[override]\n",
      "        rval: None = super().write()\n",
      "        self.flush_to_index()\n",
      "        return rval\n",
      "\n",
      "    # END overridden methods\n",
      "\n",
      "\n",
      "# } END classes\n",
      "\n"
     ]
    }
   ],
   "source": [
    "print(g.nodes['GitPython/git/objects/submodule/util.py']['source'])"
   ]
  },
  {
   "cell_type": "code",
   "execution_count": null,
   "metadata": {},
   "outputs": [],
   "source": [
    "import tree_sitter_python as tspython\n",
    "from tree_sitter import Language, Parser\n",
    "\n",
    "PY_LANGUAGE = Language(tspython.language())"
   ]
  },
  {
   "cell_type": "code",
   "execution_count": 7,
   "metadata": {},
   "outputs": [],
   "source": [
    "parser = Parser(PY_LANGUAGE)"
   ]
  },
  {
   "cell_type": "code",
   "execution_count": 8,
   "metadata": {},
   "outputs": [],
   "source": [
    "tree = parser.parse(\n",
    "    bytes(\n",
    "        g.nodes['GitPython/git/objects/submodule/util.py']['source'],\n",
    "        \"utf8\"\n",
    "    )\n",
    ")"
   ]
  },
  {
   "cell_type": "code",
   "execution_count": 11,
   "metadata": {},
   "outputs": [],
   "source": [
    "root_node = tree.root_node"
   ]
  },
  {
   "cell_type": "code",
   "execution_count": 51,
   "metadata": {},
   "outputs": [],
   "source": [
    "import networkx as nx\n",
    "import networkx as nx\n",
    "\n",
    "import networkx as nx\n",
    "\n",
    "def extract_class_function_relationships_with_source(g, root_node):\n",
    "    \"\"\"\n",
    "    Extract class and function relationships from a syntax tree into a given graph.\n",
    "\n",
    "    Args:\n",
    "        g (nx.DiGraph): A pre-existing directed graph.\n",
    "        root_node: The root node of the syntax tree, which contains the `source` attribute.\n",
    "    \"\"\"\n",
    "    def get_source_text(node):\n",
    "        \"\"\"Extract the source code corresponding to a node.\"\"\"\n",
    "        source = root_node.source  # Use source from the root_node\n",
    "        return source[node.start_byte:node.end_byte]\n",
    "    \n",
    "    def traverse(node, current_parent):\n",
    "        if node.type in ['class_definition', 'function_definition']:\n",
    "            name_node = node.child_by_field_name('name')\n",
    "            if name_node:\n",
    "                name = root_node.source[name_node.start_byte:name_node.end_byte]\n",
    "                full_name = '/'.join([current_parent, name]) if current_parent else name  # Construct hierarchical name\n",
    "                source_text = get_source_text(node)\n",
    "                node_type = 'class' if node.type == 'class_definition' else 'function'\n",
    "                \n",
    "                # Add node with attributes\n",
    "                g.add_node(full_name, \n",
    "                           type=node_type, \n",
    "                           parent=current_parent, \n",
    "                           source=source_text, \n",
    "                           is_class=(node_type == 'class'))\n",
    "                \n",
    "                # Connect to the parent if present\n",
    "                if current_parent:\n",
    "                    g.add_edge(current_parent, full_name)\n",
    "\n",
    "                # If it's a class, traverse its body to extract methods\n",
    "                if node_type == 'class':\n",
    "                    body_node = node.child_by_field_name('body')\n",
    "                    if body_node:  # Recursively traverse the class body\n",
    "                        traverse(body_node, full_name)\n",
    "\n",
    "            # Set current_parent to full_name for child functions or classes\n",
    "            current_parent = full_name if node.type == 'class_definition' else current_parent\n",
    "\n",
    "        # Recursively traverse other children\n",
    "        for child in node.children:\n",
    "            traverse(child, current_parent)\n",
    "    \n",
    "    traverse(root_node, None)\n",
    "    return g\n",
    "\n",
    "\n"
   ]
  },
  {
   "cell_type": "code",
   "execution_count": 47,
   "metadata": {},
   "outputs": [],
   "source": [
    "graph = extract_class_function_relationships_with_source(tree, 'GitPython/git/objects/submodule/util.py', g.nodes['GitPython/git/objects/submodule/util.py']['source'])"
   ]
  },
  {
   "cell_type": "code",
   "execution_count": 48,
   "metadata": {},
   "outputs": [
    {
     "data": {
      "text/plain": [
       "NodeView(('GitPython/git/objects/submodule/util.py/sm_section', 'GitPython/git/objects/submodule/util.py/sm_name', 'GitPython/git/objects/submodule/util.py/mkhead', 'GitPython/git/objects/submodule/util.py/find_first_remote_branch', 'GitPython/git/objects/submodule/util.py/SubmoduleConfigParser', 'GitPython/git/objects/submodule/util.py/SubmoduleConfigParser/__init__', 'GitPython/git/objects/submodule/util.py/SubmoduleConfigParser/set_submodule', 'GitPython/git/objects/submodule/util.py/SubmoduleConfigParser/flush_to_index', 'GitPython/git/objects/submodule/util.py/SubmoduleConfigParser/write'))"
      ]
     },
     "execution_count": 48,
     "metadata": {},
     "output_type": "execute_result"
    }
   ],
   "source": [
    "graph.nodes"
   ]
  },
  {
   "cell_type": "code",
   "execution_count": 50,
   "metadata": {},
   "outputs": [
    {
     "name": "stdout",
     "output_type": "stream",
     "text": [
      "def __init__(self, *args: Any, **kwargs: Any) -> None:\n",
      "        self._smref: Union[\"ReferenceType[Submodule]\", None] = None\n",
      "        self._index = None\n",
      "        self._auto_write = True\n",
      "        super().__init__(*args, **kwargs)\n"
     ]
    }
   ],
   "source": [
    "print(graph.nodes['GitPython/git/objects/submodule/util.py/SubmoduleConfigParser/__init__']['source'])"
   ]
  }
 ],
 "metadata": {
  "kernelspec": {
   "display_name": "repo2graph-cD37in77",
   "language": "python",
   "name": "python3"
  },
  "language_info": {
   "codemirror_mode": {
    "name": "ipython",
    "version": 3
   },
   "file_extension": ".py",
   "mimetype": "text/x-python",
   "name": "python",
   "nbconvert_exporter": "python",
   "pygments_lexer": "ipython3",
   "version": "3.12.7"
  }
 },
 "nbformat": 4,
 "nbformat_minor": 2
}
