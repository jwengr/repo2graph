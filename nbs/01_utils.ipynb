{
 "cells": [
  {
   "cell_type": "markdown",
   "metadata": {},
   "source": [
    "# utils\n",
    "\n",
    "> Fill in a module description here"
   ]
  },
  {
   "cell_type": "code",
   "execution_count": null,
   "metadata": {},
   "outputs": [],
   "source": [
    "#| default_exp utils"
   ]
  },
  {
   "cell_type": "code",
   "execution_count": null,
   "metadata": {},
   "outputs": [],
   "source": [
    "#| hide\n",
    "from nbdev.showdoc import *"
   ]
  },
  {
   "cell_type": "code",
   "execution_count": null,
   "metadata": {},
   "outputs": [],
   "source": [
    "#| export\n",
    "import os, git\n",
    "\n",
    "def clone_repo(\n",
    "    repo_url:str, \n",
    "    target_dir:str, \n",
    "    auth_token:str=None\n",
    "):\n",
    "    \"\"\"Clone a Git repository to the target directory with optional authentication.\"\"\"\n",
    "    try:\n",
    "        if not os.path.exists(target_dir):\n",
    "            os.makedirs(target_dir)\n",
    "\n",
    "        # If an authentication token is provided, use it\n",
    "        if auth_token:\n",
    "            repo_url_with_token = repo_url.replace(\"https://\", f\"https://{auth_token}@\")\n",
    "        else:\n",
    "            repo_url_with_token = repo_url\n",
    "\n",
    "        git.Repo.clone_from(repo_url_with_token, target_dir)\n",
    "    except Exception as e:\n",
    "        print(f\"Failed to clone the repository: {e}\")"
   ]
  },
  {
   "cell_type": "code",
   "execution_count": null,
   "metadata": {},
   "outputs": [],
   "source": [
    "#| hide\n",
    "import nbdev; nbdev.nbdev_export()"
   ]
  },
  {
   "cell_type": "code",
   "execution_count": null,
   "metadata": {},
   "outputs": [],
   "source": []
  }
 ],
 "metadata": {
  "kernelspec": {
   "display_name": "python3",
   "language": "python",
   "name": "python3"
  }
 },
 "nbformat": 4,
 "nbformat_minor": 2
}
